{
 "cells": [
  {
   "cell_type": "markdown",
   "id": "ba1f197b-4778-445d-adb5-ab152f18aaf8",
   "metadata": {},
   "source": [
    "# Data Science Tools and Ecosystem"
   ]
  },
  {
   "cell_type": "markdown",
   "id": "7d9b7bea-0629-4f3f-aa1f-ddf1da3f2214",
   "metadata": {},
   "source": [
    "In this notebook, Data Science Tools and Ecosystem are summarized."
   ]
  },
  {
   "cell_type": "markdown",
   "id": "2afed44c-d066-4c19-8c67-bf634448d979",
   "metadata": {},
   "source": [
    "Some of the popular languages that Data Scientists use are:\n",
    "1. R\n",
    "2. Python\n",
    "3. Java"
   ]
  },
  {
   "cell_type": "markdown",
   "id": "cf0b8e4a-47a2-4452-984a-8bcde0c36fd1",
   "metadata": {},
   "source": [
    "Some of the commonly used libraries used by Data Scientists include:\n",
    "1. Pandas\n",
    "2. Numpy\n",
    "3. Matplotlib\n"
   ]
  },
  {
   "cell_type": "markdown",
   "id": "d5a92d3a-2750-480b-bebf-86fb14dfa532",
   "metadata": {},
   "source": [
    "| Data Science Tools |\n",
    "| -------------|\n",
    "| TensorFlow |\n",
    "| Hadoop |\n",
    "| Spark |"
   ]
  },
  {
   "cell_type": "markdown",
   "id": "0deedd2d-1af4-4a5b-aea0-fefeab19265d",
   "metadata": {},
   "source": [
    "### Below are a few examples of evaluating arithmetic expressions in Python"
   ]
  },
  {
   "cell_type": "markdown",
   "id": "b4345cc8-17cd-4ce0-acb0-43c1997cb160",
   "metadata": {},
   "source": [
    "This a simple arithmetic expression to mutiply then add integers.\n"
   ]
  },
  {
   "cell_type": "code",
   "execution_count": 51,
   "id": "1ec44638-deda-4f2b-85e3-d8719acb8d58",
   "metadata": {},
   "outputs": [
    {
     "data": {
      "text/plain": [
       "17"
      ]
     },
     "execution_count": 51,
     "metadata": {},
     "output_type": "execute_result"
    }
   ],
   "source": [
    "(3*4)+5\n"
   ]
  },
  {
   "cell_type": "markdown",
   "id": "922cb222-5c6a-49ec-9e28-56f0866aa792",
   "metadata": {},
   "source": [
    "This will convert 200 minutes to hours by diving by 60.\n"
   ]
  },
  {
   "cell_type": "code",
   "execution_count": 53,
   "id": "7ac3e85c-4f5b-4b6d-9b7a-af3f0bcee158",
   "metadata": {},
   "outputs": [
    {
     "data": {
      "text/plain": [
       "3.3333333333333335"
      ]
     },
     "execution_count": 53,
     "metadata": {},
     "output_type": "execute_result"
    }
   ],
   "source": [
    "200/60"
   ]
  },
  {
   "cell_type": "markdown",
   "id": "e79bc9fb-6a16-422f-afb1-c0f550dd28a2",
   "metadata": {},
   "source": [
    "**Objectives:**"
   ]
  },
  {
   "cell_type": "markdown",
   "id": "5e2b2525-7a3e-44ee-8722-fea8037a516d",
   "metadata": {},
   "source": [
    "List popular languages used in data science\n",
    "- Java\n",
    "- R\n",
    "- Python"
   ]
  },
  {
   "cell_type": "markdown",
   "id": "57d26634-9fc7-4e01-a85b-d5b6b03d3b0a",
   "metadata": {},
   "source": [
    "## Author:"
   ]
  },
  {
   "cell_type": "markdown",
   "id": "d146dfc4-2b3f-49b0-9234-430bd1ad93f4",
   "metadata": {},
   "source": [
    "Ann Marie Carias"
   ]
  },
  {
   "cell_type": "code",
   "execution_count": null,
   "id": "fadfd539-e387-4cbe-a9ce-62c3b3e994b8",
   "metadata": {},
   "outputs": [],
   "source": []
  }
 ],
 "metadata": {
  "kernelspec": {
   "display_name": "Python [conda env:base] *",
   "language": "python",
   "name": "conda-base-py"
  },
  "language_info": {
   "codemirror_mode": {
    "name": "ipython",
    "version": 3
   },
   "file_extension": ".py",
   "mimetype": "text/x-python",
   "name": "python",
   "nbconvert_exporter": "python",
   "pygments_lexer": "ipython3",
   "version": "3.12.7"
  }
 },
 "nbformat": 4,
 "nbformat_minor": 5
}
